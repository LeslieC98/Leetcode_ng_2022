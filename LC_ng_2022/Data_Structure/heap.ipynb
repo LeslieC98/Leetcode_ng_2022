{
 "cells": [
  {
   "cell_type": "code",
   "execution_count": 1,
   "metadata": {
    "collapsed": true
   },
   "outputs": [
    {
     "name": "stdout",
     "output_type": "stream",
     "text": [
      "[0, 1, 4, 2, 3]\n"
     ]
    }
   ],
   "source": [
    "import heapq\n",
    "# 2.heapq.heappush() 添加新元素 num\n",
    "heap = [2, 0, 4, 1]\n",
    "heapq.heapify(heap)\n",
    "num = 3\n",
    "heapq.heappush(heap, num)\n",
    "print(heap)\n"
   ]
  }
 ],
 "metadata": {
  "kernelspec": {
   "display_name": "Python 3",
   "language": "python",
   "name": "python3"
  },
  "language_info": {
   "codemirror_mode": {
    "name": "ipython",
    "version": 2
   },
   "file_extension": ".py",
   "mimetype": "text/x-python",
   "name": "python",
   "nbconvert_exporter": "python",
   "pygments_lexer": "ipython2",
   "version": "2.7.6"
  }
 },
 "nbformat": 4,
 "nbformat_minor": 0
}